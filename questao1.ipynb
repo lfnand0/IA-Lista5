{
 "cells": [
  {
   "cell_type": "code",
   "execution_count": 1,
   "id": "2e40f6cd-619e-4372-bba7-ce036edbc909",
   "metadata": {},
   "outputs": [
    {
     "name": "stdout",
     "output_type": "stream",
     "text": [
      "Requirement already satisfied: imbalanced-learn in c:\\users\\lfnan\\anaconda3\\lib\\site-packages (0.9.1)\n",
      "Requirement already satisfied: numpy>=1.17.3 in c:\\users\\lfnan\\anaconda3\\lib\\site-packages (from imbalanced-learn) (1.21.5)\n",
      "Requirement already satisfied: scipy>=1.3.2 in c:\\users\\lfnan\\anaconda3\\lib\\site-packages (from imbalanced-learn) (1.7.3)\n",
      "Requirement already satisfied: joblib>=1.0.0 in c:\\users\\lfnan\\anaconda3\\lib\\site-packages (from imbalanced-learn) (1.1.0)\n",
      "Requirement already satisfied: scikit-learn>=1.1.0 in c:\\users\\lfnan\\anaconda3\\lib\\site-packages (from imbalanced-learn) (1.1.2)\n",
      "Requirement already satisfied: threadpoolctl>=2.0.0 in c:\\users\\lfnan\\anaconda3\\lib\\site-packages (from imbalanced-learn) (2.2.0)\n"
     ]
    }
   ],
   "source": [
    "!pip install -U imbalanced-learn"
   ]
  },
  {
   "cell_type": "code",
   "execution_count": 10,
   "id": "0422ba69-28dc-430a-bd4a-4d019d04f69a",
   "metadata": {},
   "outputs": [],
   "source": [
    "import pandas as pd\n",
    "import matplotlib.pyplot as plt\n",
    "import numpy as np\n",
    "from sklearn import tree\n",
    "from sklearn.tree import DecisionTreeClassifier\n",
    "from sklearn.naive_bayes import GaussianNB\n",
    "from sklearn.ensemble import RandomForestClassifier\n",
    "from sklearn.model_selection import train_test_split\n",
    "from sklearn.metrics import accuracy_score\n",
    "from sklearn.metrics import ConfusionMatrixDisplay\n",
    "from sklearn.metrics import confusion_matrix\n",
    "from sklearn.preprocessing import LabelEncoder\n",
    "\n",
    "from imblearn.over_sampling import SMOTE "
   ]
  },
  {
   "cell_type": "code",
   "execution_count": 11,
   "id": "42fbe8eb-ac81-4c9a-a110-5882732f26cd",
   "metadata": {},
   "outputs": [
    {
     "name": "stdout",
     "output_type": "stream",
     "text": [
      "no-recurrence-events    201\n",
      "recurrence-events        85\n",
      "Name: Class, dtype: int64\n"
     ]
    },
    {
     "data": {
      "image/png": "[encoded data removed]",
      "text/plain": [
       "<Figure size 432x288 with 1 Axes>"
      ]
     },
     "metadata": {},
     "output_type": "display_data"
    }
   ],
   "source": [
    "# Variáveis\n",
    "col_names = ['age', 'menopause', 'tumor-size', 'inv-nodes', 'node-caps', 'deg-malig', 'breast', 'breast-quad', 'irradiat', 'Class']\n",
    "feature_cols = ['age', 'menopause', 'tumor-size', 'inv-nodes', 'node-caps', 'deg-malig', 'breast', 'breast-quad', 'irradiat']\n",
    "\n",
    "data = pd.read_csv(\"./breast-cancer.csv\", header=0, names=col_names)\n",
    "\n",
    "print(data.Class.value_counts())\n",
    "data.Class.value_counts().plot.pie(autopct='%.2f')\n",
    "plt.show()"
   ]
  },
  {
   "cell_type": "code",
   "execution_count": 12,
   "id": "4ae8681e-34a1-40fe-ad3f-9e7198244148",
   "metadata": {},
   "outputs": [],
   "source": [
    "# Pré-processamento\n",
    "data = data.values\n",
    "\n",
    "label_encoder = LabelEncoder()\n",
    "for i in range(10):\n",
    "    data[:,i] = label_encoder.fit_transform(data[:,i]).astype('int')\n",
    "data = pd.DataFrame(data, columns=col_names)\n",
    "\n",
    "X = data[feature_cols] # Atributos de entrada\n",
    "Y = data.Class # Atributo de classificação\n",
    "Y = Y.astype('int')"
   ]
  },
  {
   "cell_type": "code",
   "execution_count": 13,
   "id": "b6e1f9b6-3352-426b-9be1-807a7c2f29e1",
   "metadata": {},
   "outputs": [],
   "source": [
    "# Divisão dos dados de treinamento e de teste\n",
    "X_train, X_test, y_train, y_test = train_test_split(X, Y, test_size=0.3, random_state=1) # 80/20"
   ]
  },
  {
   "cell_type": "code",
   "execution_count": 14,
   "id": "1215d269-1045-44ff-943d-850212aeb731",
   "metadata": {},
   "outputs": [],
   "source": [
    "# Treinamento\n",
    "\n",
    "# Naive Bayes\n",
    "gnb = GaussianNB()\n",
    "gnb = gnb.fit(X_train,y_train)\n",
    "y_pred_gnb = gnb.predict(X_test)\n",
    "\n",
    "# Decision Tree\n",
    "clf = DecisionTreeClassifier()\n",
    "clf = clf.fit(X_train,y_train)\n",
    "y_pred_clf = clf.predict(X_test)\n",
    "\n",
    "# Random Forest\n",
    "rfc = RandomForestClassifier()\n",
    "rfc = rfc.fit(X_train,y_train)\n",
    "y_pred_rfc = rfc.predict(X_test)"
   ]
  },
  {
   "cell_type": "code",
   "execution_count": 15,
   "id": "5b042d7f-8fca-49ec-b854-2b2c02adaa8a",
   "metadata": {},
   "outputs": [
    {
     "name": "stdout",
     "output_type": "stream",
     "text": [
      "DECISION TREE:\n"
     ]
    },
    {
     "data": {
      "image/png": "[encoded data removed]",
      "text/plain": [
       "<Figure size 432x288 with 2 Axes>"
      ]
     },
     "metadata": {
      "needs_background": "light"
     },
     "output_type": "display_data"
    },
    {
     "name": "stdout",
     "output_type": "stream",
     "text": [
      "TPR: 0.8888888888888888\n",
      "FNR: 0.1111111111111111\n",
      "TNR: 0.17647058823529413\n",
      "FPR: 0.625\n",
      "Precision: 0.7058823529411765\n",
      "F1 Score: 0.7868852459016393\n",
      "Accuracy: 0.6976744186046512\n"
     ]
    }
   ],
   "source": [
    "# MATRIZ DE CONFUSÃO: DECISION TREE\n",
    "print(\"DECISION TREE:\")\n",
    "\n",
    "matrix_clf = confusion_matrix(y_test.values, y_pred_clf)\n",
    "\n",
    "disp_clf = ConfusionMatrixDisplay(confusion_matrix=matrix_clf, display_labels=clf.classes_)\n",
    "disp_clf.plot()\n",
    "plt.show()\n",
    "\n",
    "TP_clf = matrix_clf[0][0]\n",
    "TN_clf = matrix_clf[1][1]\n",
    "FP_clf = matrix_clf[1][0]\n",
    "FN_clf = matrix_clf[0][1]\n",
    "\n",
    "print(\"TPR:\", TP_clf/(TP_clf+FN_clf))\n",
    "print(\"FNR:\", FN_clf/(TP_clf+FN_clf))\n",
    "print(\"TNR:\", TN_clf/(TP_clf+FP_clf))\n",
    "print(\"FPR:\", FP_clf/(FP_clf+TN_clf))\n",
    "print(\"Precision:\", TP_clf/(TP_clf+FP_clf))\n",
    "print(\"F1 Score:\", (2*TP_clf)/(2*TP_clf+FP_clf+FN_clf))\n",
    "print(\"Accuracy:\", (TP_clf+TN_clf)/(TP_clf+TN_clf+FP_clf+FN_clf))"
   ]
  },
  {
   "cell_type": "code",
   "execution_count": 16,
   "id": "c6f62e9b-140e-4ce2-8c48-6838aeef55f7",
   "metadata": {},
   "outputs": [
    {
     "name": "stdout",
     "output_type": "stream",
     "text": [
      "NAIVE BAYES:\n"
     ]
    },
    {
     "data": {
      "image/png": "[encoded data removed]",
      "text/plain": [
       "<Figure size 432x288 with 2 Axes>"
      ]
     },
     "metadata": {
      "needs_background": "light"
     },
     "output_type": "display_data"
    },
    {
     "name": "stdout",
     "output_type": "stream",
     "text": [
      "TPR: 0.9074074074074074\n",
      "FNR: 0.09259259259259259\n",
      "TNR: 0.265625\n",
      "FPR: 0.46875\n",
      "Precision: 0.765625\n",
      "F1 Score: 0.8305084745762712\n",
      "Accuracy: 0.7674418604651163\n"
     ]
    }
   ],
   "source": [
    "# MATRIZ DE CONFUSÃO: NAIVE BAYES\n",
    "print(\"NAIVE BAYES:\")\n",
    "\n",
    "matrix_gnb = confusion_matrix(y_test.values, y_pred_gnb)\n",
    "\n",
    "disp_gnb = ConfusionMatrixDisplay(confusion_matrix=matrix_gnb, display_labels=gnb.classes_)\n",
    "disp_gnb.plot()\n",
    "plt.show()\n",
    "\n",
    "TP_gnb = matrix_gnb[0][0]\n",
    "TN_gnb = matrix_gnb[1][1]\n",
    "FP_gnb = matrix_gnb[1][0]\n",
    "FN_gnb = matrix_gnb[0][1]\n",
    "\n",
    "print(\"TPR:\", TP_gnb/(TP_gnb+FN_gnb))\n",
    "print(\"FNR:\", FN_gnb/(TP_gnb+FN_gnb))\n",
    "print(\"TNR:\", TN_gnb/(TP_gnb+FP_gnb))\n",
    "print(\"FPR:\", FP_gnb/(FP_gnb+TN_gnb))\n",
    "print(\"Precision:\", TP_gnb/(TP_gnb+FP_gnb))\n",
    "print(\"F1 Score:\", (2*TP_gnb)/(2*TP_gnb+FP_gnb+FN_gnb))\n",
    "print(\"Accuracy:\", (TP_gnb+TN_gnb)/(TP_gnb+TN_gnb+FP_gnb+FN_gnb))"
   ]
  },
  {
   "cell_type": "code",
   "execution_count": 17,
   "id": "ef5d6ca5-4b49-464a-a1d9-f4579eeb1171",
   "metadata": {},
   "outputs": [
    {
     "name": "stdout",
     "output_type": "stream",
     "text": [
      "RANDOM FOREST\n"
     ]
    },
    {
     "data": {
      "image/png": "[encoded data removed]",
      "text/plain": [
       "<Figure size 432x288 with 2 Axes>"
      ]
     },
     "metadata": {
      "needs_background": "light"
     },
     "output_type": "display_data"
    },
    {
     "name": "stdout",
     "output_type": "stream",
     "text": [
      "TPR: 0.9259259259259259\n",
      "FNR: 0.07407407407407407\n",
      "TNR: 0.1232876712328767\n",
      "FPR: 0.71875\n",
      "Precision: 0.684931506849315\n",
      "F1 Score: 0.7874015748031497\n",
      "Accuracy: 0.686046511627907\n"
     ]
    }
   ],
   "source": [
    "# MATRIZ DE CONFUSÃO: RANDOM FOREST\n",
    "print(\"RANDOM FOREST\")\n",
    "\n",
    "matrix_rfc = confusion_matrix(y_test.values, y_pred_rfc)\n",
    "\n",
    "disp_rfc = ConfusionMatrixDisplay(confusion_matrix=matrix_rfc, display_labels=rfc.classes_)\n",
    "disp_rfc.plot()\n",
    "plt.show()\n",
    "\n",
    "TP_rfc = matrix_rfc[0][0]\n",
    "TN_rfc = matrix_rfc[1][1]\n",
    "FP_rfc = matrix_rfc[1][0]\n",
    "FN_rfc = matrix_rfc[0][1]\n",
    "\n",
    "print(\"TPR:\", TP_rfc/(TP_rfc+FN_rfc))\n",
    "print(\"FNR:\", FN_rfc/(TP_rfc+FN_rfc))\n",
    "print(\"TNR:\", TN_rfc/(TP_rfc+FP_rfc))\n",
    "print(\"FPR:\", FP_rfc/(FP_rfc+TN_rfc))\n",
    "print(\"Precision:\", TP_rfc/(TP_rfc+FP_rfc))\n",
    "print(\"F1 Score:\", (2*TP_rfc)/(2*TP_rfc+FP_rfc+FN_rfc))\n",
    "print(\"Accuracy:\", (TP_rfc+TN_rfc)/(TP_rfc+TN_rfc+FP_rfc+FN_rfc))"
   ]
  },
  {
   "cell_type": "code",
   "execution_count": 5,
   "id": "ac9a3b9e-e176-4c1d-a747-9b10d748ae79",
   "metadata": {},
   "outputs": [
    {
     "name": "stdout",
     "output_type": "stream",
     "text": [
      "Before oversampling:\n",
      " 0    147\n",
      "1     53\n",
      "Name: Class, dtype: int64\n"
     ]
    },
    {
     "data": {
      "image/png": "[encoded data removed]",
      "text/plain": [
       "<Figure size 432x288 with 1 Axes>"
      ]
     },
     "metadata": {},
     "output_type": "display_data"
    },
    {
     "name": "stdout",
     "output_type": "stream",
     "text": [
      "----\n",
      "After oversampling:\n",
      " 0    147\n",
      "1    147\n",
      "Name: Class, dtype: int64\n"
     ]
    },
    {
     "data": {
      "image/png": "[encoded data removed]",
      "text/plain": [
       "<Figure size 432x288 with 1 Axes>"
      ]
     },
     "metadata": {},
     "output_type": "display_data"
    }
   ],
   "source": [
    "# Oversampling\n",
    "print(\"Before oversampling:\\n\", y_train.value_counts())\n",
    "y_train.value_counts().plot.pie(autopct='%.2f')\n",
    "plt.show()\n",
    "print(\"----\")\n",
    "\n",
    "sm = SMOTE(random_state=12)\n",
    "X_train,y_train = sm.fit_resample(X_train,y_train)\n",
    "\n",
    "print(\"After oversampling:\\n\", y_train.value_counts())\n",
    "y_train.value_counts().plot.pie(autopct='%.2f')\n",
    "plt.show()"
   ]
  },
  {
   "cell_type": "code",
   "execution_count": 6,
   "id": "79e7f704-8111-49c2-999f-7d7409110db6",
   "metadata": {},
   "outputs": [],
   "source": [
    "# Treinamento - Após Oversampling\n",
    "\n",
    "# Naive Bayes\n",
    "gnb = GaussianNB()\n",
    "gnb = gnb.fit(X_train,y_train)\n",
    "y_pred_gnb = gnb.predict(X_test)\n",
    "\n",
    "# Decision Tree\n",
    "clf = DecisionTreeClassifier()\n",
    "clf = clf.fit(X_train,y_train)\n",
    "y_pred_clf = clf.predict(X_test)\n",
    "\n",
    "# Random Forest\n",
    "rfc = RandomForestClassifier()\n",
    "rfc = rfc.fit(X_train,y_train)\n",
    "y_pred_rfc = rfc.predict(X_test)"
   ]
  },
  {
   "cell_type": "code",
   "execution_count": 7,
   "id": "6eec934a-3fb2-4e0f-8f1f-38a4d6da7081",
   "metadata": {},
   "outputs": [
    {
     "name": "stdout",
     "output_type": "stream",
     "text": [
      "DECISION TREE (Após Oversampling):\n"
     ]
    },
    {
     "data": {
      "image/png": "[encoded data removed]",
      "text/plain": [
       "<Figure size 432x288 with 2 Axes>"
      ]
     },
     "metadata": {
      "needs_background": "light"
     },
     "output_type": "display_data"
    },
    {
     "name": "stdout",
     "output_type": "stream",
     "text": [
      "TPR: 0.7592592592592593\n",
      "FNR: 0.24074074074074073\n",
      "TNR: 0.21666666666666667\n",
      "FPR: 0.59375\n",
      "Precision: 0.6833333333333333\n",
      "F1 Score: 0.7192982456140351\n",
      "Accuracy: 0.627906976744186\n"
     ]
    }
   ],
   "source": [
    "# MATRIZ DE CONFUSÃO: DECISION TREE - Após Oversampling\n",
    "print(\"DECISION TREE (Após Oversampling):\")\n",
    "\n",
    "matrix_clf = confusion_matrix(y_test.values, y_pred_clf)\n",
    "\n",
    "disp_clf = ConfusionMatrixDisplay(confusion_matrix=matrix_clf, display_labels=clf.classes_)\n",
    "disp_clf.plot()\n",
    "plt.show()\n",
    "\n",
    "TP_clf = matrix_clf[0][0]\n",
    "TN_clf = matrix_clf[1][1]\n",
    "FP_clf = matrix_clf[1][0]\n",
    "FN_clf = matrix_clf[0][1]\n",
    "\n",
    "print(\"TPR:\", TP_clf/(TP_clf+FN_clf))\n",
    "print(\"FNR:\", FN_clf/(TP_clf+FN_clf))\n",
    "print(\"TNR:\", TN_clf/(TP_clf+FP_clf))\n",
    "print(\"FPR:\", FP_clf/(FP_clf+TN_clf))\n",
    "print(\"Precision:\", TP_clf/(TP_clf+FP_clf))\n",
    "print(\"F1 Score:\", (2*TP_clf)/(2*TP_clf+FP_clf+FN_clf))\n",
    "print(\"Accuracy:\", (TP_clf+TN_clf)/(TP_clf+TN_clf+FP_clf+FN_clf))"
   ]
  },
  {
   "cell_type": "code",
   "execution_count": 8,
   "id": "848e3767-65ae-466b-8682-34a33667fbea",
   "metadata": {},
   "outputs": [
    {
     "name": "stdout",
     "output_type": "stream",
     "text": [
      "NAIVE BAYES (Após Oversampling):\n"
     ]
    },
    {
     "data": {
      "image/png": "[encoded data removed]",
      "text/plain": [
       "<Figure size 432x288 with 2 Axes>"
      ]
     },
     "metadata": {
      "needs_background": "light"
     },
     "output_type": "display_data"
    },
    {
     "name": "stdout",
     "output_type": "stream",
     "text": [
      "TPR: 0.7037037037037037\n",
      "FNR: 0.2962962962962963\n",
      "TNR: 0.42857142857142855\n",
      "FPR: 0.34375\n",
      "Precision: 0.7755102040816326\n",
      "F1 Score: 0.7378640776699029\n",
      "Accuracy: 0.686046511627907\n"
     ]
    }
   ],
   "source": [
    "# MATRIZ DE CONFUSÃO: NAIVE BAYES - Após Oversampling\n",
    "print(\"NAIVE BAYES (Após Oversampling):\")\n",
    "\n",
    "matrix_gnb = confusion_matrix(y_test.values, y_pred_gnb)\n",
    "\n",
    "disp_gnb = ConfusionMatrixDisplay(confusion_matrix=matrix_gnb, display_labels=gnb.classes_)\n",
    "disp_gnb.plot()\n",
    "plt.show()\n",
    "\n",
    "TP_gnb = matrix_gnb[0][0]\n",
    "TN_gnb = matrix_gnb[1][1]\n",
    "FP_gnb = matrix_gnb[1][0]\n",
    "FN_gnb = matrix_gnb[0][1]\n",
    "\n",
    "print(\"TPR:\", TP_gnb/(TP_gnb+FN_gnb))\n",
    "print(\"FNR:\", FN_gnb/(TP_gnb+FN_gnb))\n",
    "print(\"TNR:\", TN_gnb/(TP_gnb+FP_gnb))\n",
    "print(\"FPR:\", FP_gnb/(FP_gnb+TN_gnb))\n",
    "print(\"Precision:\", TP_gnb/(TP_gnb+FP_gnb))\n",
    "print(\"F1 Score:\", (2*TP_gnb)/(2*TP_gnb+FP_gnb+FN_gnb))\n",
    "print(\"Accuracy:\", (TP_gnb+TN_gnb)/(TP_gnb+TN_gnb+FP_gnb+FN_gnb))"
   ]
  },
  {
   "cell_type": "code",
   "execution_count": 9,
   "id": "e198a06f-95bf-4897-8277-6ea7e7095205",
   "metadata": {},
   "outputs": [
    {
     "name": "stdout",
     "output_type": "stream",
     "text": [
      "RANDOM FOREST (Após Oversampling):\n"
     ]
    },
    {
     "data": {
      "image/png": "[encoded data removed]",
      "text/plain": [
       "<Figure size 432x288 with 2 Axes>"
      ]
     },
     "metadata": {
      "needs_background": "light"
     },
     "output_type": "display_data"
    },
    {
     "name": "stdout",
     "output_type": "stream",
     "text": [
      "TPR: 0.8703703703703703\n",
      "FNR: 0.12962962962962962\n",
      "TNR: 0.14492753623188406\n",
      "FPR: 0.6875\n",
      "Precision: 0.6811594202898551\n",
      "F1 Score: 0.7642276422764228\n",
      "Accuracy: 0.6627906976744186\n"
     ]
    }
   ],
   "source": [
    "# MATRIZ DE CONFUSÃO: RANDOM FOREST - Após Oversampling\n",
    "print(\"RANDOM FOREST (Após Oversampling):\")\n",
    "\n",
    "matrix_rfc = confusion_matrix(y_test.values, y_pred_rfc)\n",
    "\n",
    "disp_rfc = ConfusionMatrixDisplay(confusion_matrix=matrix_rfc, display_labels=rfc.classes_)\n",
    "disp_rfc.plot()\n",
    "plt.show()\n",
    "\n",
    "TP_rfc = matrix_rfc[0][0]\n",
    "TN_rfc = matrix_rfc[1][1]\n",
    "FP_rfc = matrix_rfc[1][0]\n",
    "FN_rfc = matrix_rfc[0][1]\n",
    "\n",
    "print(\"TPR:\", TP_rfc/(TP_rfc+FN_rfc))\n",
    "print(\"FNR:\", FN_rfc/(TP_rfc+FN_rfc))\n",
    "print(\"TNR:\", TN_rfc/(TP_rfc+FP_rfc))\n",
    "print(\"FPR:\", FP_rfc/(FP_rfc+TN_rfc))\n",
    "print(\"Precision:\", TP_rfc/(TP_rfc+FP_rfc))\n",
    "print(\"F1 Score:\", (2*TP_rfc)/(2*TP_rfc+FP_rfc+FN_rfc))\n",
    "print(\"Accuracy:\", (TP_rfc+TN_rfc)/(TP_rfc+TN_rfc+FP_rfc+FN_rfc))"
   ]
  },
  {
   "cell_type": "code",
   "execution_count": 15,
   "id": "b9b0ee4c-02a5-4c46-a949-45bf8f7573d3",
   "metadata": {},
   "outputs": [],
   "source": [
    "# Mostrando a árvore\n",
    "# fig = plt.figure(figsize=(96,54))\n",
    "# _ = tree.plot_tree(clf, feature_names=list(X_train.columns), class_names='Class', filled='true')"
   ]
  }
 ],
 "metadata": {
  "kernelspec": {
   "display_name": "Python 3 (ipykernel)",
   "language": "python",
   "name": "python3"
  },
  "language_info": {
   "codemirror_mode": {
    "name": "ipython",
    "version": 3
   },
   "file_extension": ".py",
   "mimetype": "text/x-python",
   "name": "python",
   "nbconvert_exporter": "python",
   "pygments_lexer": "ipython3",
   "version": "3.9.12"
  }
 },
 "nbformat": 4,
 "nbformat_minor": 5
}
